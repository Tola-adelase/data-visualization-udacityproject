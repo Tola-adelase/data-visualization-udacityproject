{
 "cells": [
  {
   "cell_type": "markdown",
   "metadata": {
    "slideshow": {
     "slide_type": "slide"
    }
   },
   "source": [
    "# Part II - (Prosper Loan Data Exploration)\n",
    "## by (Adetola Adelase)"
   ]
  },
  {
   "cell_type": "markdown",
   "metadata": {
    "slideshow": {
     "slide_type": "slide"
    }
   },
   "source": [
    "\n",
    "## Investigation Overview\n",
    "> In this investigation, I wanted to look at the borrowers features (such as loan amount,  Prosper rating, credit type, stated monthly income, and employment status) and determine which that has the most impact on chances of loan default and also have the most impact on loan performance. \n",
    "\n",
    "\n",
    "## Dataset Overview\n",
    "> The prosper loan dataset contains 113,937 loans with 81 variables on each loan, including loan amount, borrower rate (or interest rate), current loan status, borrower income, and many others. In this project I explored 10 -15 variables in the dataset which was used in analysing the dataset."
   ]
  },
  {
   "cell_type": "code",
   "execution_count": null,
   "metadata": {
    "slideshow": {
     "slide_type": "skip"
    }
   },
   "outputs": [],
   "source": [
    "# import all packages and set plots to be embedded inline\n",
    "import numpy as np\n",
    "import pandas as pd\n",
    "import matplotlib.pyplot as plt\n",
    "import seaborn as sb\n",
    "\n",
    "%matplotlib inline\n",
    "\n",
    "# suppress warnings from final output\n",
    "import warnings\n",
    "warnings.simplefilter(\"ignore\")"
   ]
  },
  {
   "cell_type": "code",
   "execution_count": null,
   "metadata": {
    "slideshow": {
     "slide_type": "skip"
    }
   },
   "outputs": [],
   "source": [
    "# load in the dataset into a pandas dataframe\n",
    "df_loan = pd.read_csv('/home/axe_rhitta/ProsperLoanData.csv')\n",
    "\n",
    "# Selecting features of interest from the dataframe\n",
    "selected_columns =  [\n",
    "    'Term', 'LoanStatus', 'BorrowerAPR', 'BorrowerRate', 'ProsperRating (Alpha)', 'ListingCategory (numeric)', 'EmploymentStatus',\n",
    "    'DelinquenciesLast7Years', 'StatedMonthlyIncome', 'TotalProsperLoans', 'LoanOriginalAmount',\n",
    "    'LoanOriginationDate', 'Recommendations', 'Investors'\n",
    "]\n",
    "\n",
    "df_loan1 = df_loan[selected_columns]"
   ]
  },
  {
   "cell_type": "markdown",
   "metadata": {
    "slideshow": {
     "slide_type": "slide"
    }
   },
   "source": [
    "## (Visualization 1)\n",
    "### Observation \n",
    "> The majority of the loans in the dataset are current loans. Based on the length of the payment delay, past due loans are divided into numerous classes. Completed loans make up a significant portion of the total; defaulted loans make up a small percentage, but charged-off loans make up a significant portion as well.\n",
    "\n",
    "> The majority of borrowers are employed, with all other categories accounting for only a minor percentage of total borrowers. Full-time work has the highest priority in small groups, followed by self-employed workers, and so on.\n",
    "\n",
    "> The length of most of the loans are 36 months, followed by 60 months."
   ]
  },
  {
   "cell_type": "code",
   "execution_count": null,
   "metadata": {
    "slideshow": {
     "slide_type": "subslide"
    }
   },
   "outputs": [],
   "source": [
    "sb.countplot(data = df_loan1, x = 'Term', color = norm_color)\n",
    "plt.title('Distribution of Loan term');"
   ]
  },
  {
   "cell_type": "code",
   "execution_count": null,
   "metadata": {
    "slideshow": {
     "slide_type": "subslide"
    }
   },
   "outputs": [],
   "source": [
    "norm_color = sb.color_palette()[4]\n",
    "plt.xticks(rotation=90)\n",
    "sb.countplot(data = df_loan1, x = 'LoanStatus', color = norm_color)\n",
    "plt.title('Distribution of Loan Status');"
   ]
  },
  {
   "cell_type": "code",
   "execution_count": null,
   "metadata": {
    "slideshow": {
     "slide_type": "subslide"
    }
   },
   "outputs": [],
   "source": [
    "sb.countplot(data = df_loan1, x = 'EmploymentStatus', color = norm_color);\n",
    "plt.title('Distribution of Employment Status');\n",
    "plt.xticks(rotation = 90);"
   ]
  },
  {
   "cell_type": "markdown",
   "metadata": {
    "collapsed": true,
    "slideshow": {
     "slide_type": "slide"
    }
   },
   "source": [
    "## (Visualization 2)\n",
    "### Observation\n",
    "\n",
    "> Individuals with employment statuses of Not Employed, Self-employed, Retired, and Part-Time appear to be more prevalent in lower ratings.\n",
    "\n",
    "> Because most of the values in the variable Listing Category are quite rare, we changed it to categorical and reduced the number of categories to make it easier to visualise. Debt consolidation has the highest frequency of all of the changed listing options and startup having the lowest frequency in both graph.\n",
    "\n",
    "> When borrowers with other types of jobs are compared, it can be seen that those who are employed have higher loan amounts. Retired and unemployed borrowers, on the other hand, have accepted smaller loans than those in other employment categories."
   ]
  },
  {
   "cell_type": "code",
   "execution_count": null,
   "metadata": {
    "slideshow": {
     "slide_type": "skip"
    }
   },
   "outputs": [],
   "source": [
    "# Adjusting the form of the data\n",
    "con = (df_loan1['LoanStatus'] == 'Completed') | (df_loan1['LoanStatus'] == 'Defaulted') |\\\n",
    "                  (df_loan1['LoanStatus'] == 'Chargedoff')\n",
    "df_loan1 = df_loan1[con]\n",
    "\n",
    "def change_to_defaulted(row):\n",
    "    if row['LoanStatus'] == 'Chargedoff':\n",
    "        return 'Defaulted'\n",
    "    else:\n",
    "        return row['LoanStatus']\n",
    "    \n",
    "df_loan1['LoanStatus'] = df_loan1.apply(change_to_defaulted, axis=1)\n",
    "df_loan1['LoanStatus'].value_counts()\n",
    "\n",
    "categories = {1: 'Debt Consolidation', 2: 'Car loans', 3: 'Insurance', 6: 'Startups', 7: 'Other'}\n",
    "def reduce_categorie(row):\n",
    "    loan_category = row['ListingCategory (numeric)']\n",
    "    if  loan_category in categories:\n",
    "        return categories[loan_category]\n",
    "    else:\n",
    "        return categories[7]\n",
    "df_loan1['ListingCategory (numeric)'] = df_loan1.apply(reduce_categorie, axis=1)\n",
    "df_loan1['ListingCategory (numeric)'].value_counts()"
   ]
  },
  {
   "cell_type": "code",
   "execution_count": null,
   "metadata": {
    "slideshow": {
     "slide_type": "subslide"
    }
   },
   "outputs": [],
   "source": [
    "sb.countplot(data = df_loan1,  hue = 'ListingCategory (numeric)', x = 'LoanStatus', palette = 'Blues');\n",
    "plt.title('Distribution of Loan Status and Listing Category');"
   ]
  },
  {
   "cell_type": "code",
   "execution_count": null,
   "metadata": {
    "slideshow": {
     "slide_type": "subslide"
    }
   },
   "outputs": [],
   "source": [
    "fig = plt.figure(figsize=(12,6))\n",
    "sb.pointplot(y='LoanOriginalAmount', x='EmploymentStatus', data=df_loan1)\n",
    "plt.title('Distribution of Loan Amount Based on Employment')\n",
    "plt.xlabel('Employment Status')\n",
    "plt.ylabel('Original Loan Amount')\n",
    "plt.show()"
   ]
  },
  {
   "cell_type": "code",
   "execution_count": null,
   "metadata": {
    "slideshow": {
     "slide_type": "subslide"
    }
   },
   "outputs": [],
   "source": [
    "plt.figure(figsize = [12, 10])\n",
    "sb.countplot(data = df_loan1, x = 'ProsperRating (Alpha)', hue = 'EmploymentStatus', palette = 'Purples');\n",
    "plt.title('Distribution of Propser Rating and Employment Status');"
   ]
  },
  {
   "cell_type": "markdown",
   "metadata": {
    "slideshow": {
     "slide_type": "slide"
    }
   },
   "source": [
    "## (Visualization 3)\n",
    "### Observation\n",
    "> Defaulted credits, with the exception of the lowest ratings, are usually greater than completed credits. Individuals with a low Prosper rating account for the majority of defaulted credits.\n",
    "> Except Startups, Insurance and Car loans, none of them have roughly comparable mean. Insurance category tend to have bigger amount.\n"
   ]
  },
  {
   "cell_type": "code",
   "execution_count": null,
   "metadata": {
    "slideshow": {
     "slide_type": "subslide"
    }
   },
   "outputs": [],
   "source": [
    "plt.figure(figsize = [12, 8])\n",
    "sb.violinplot(data=df_loan1, x='ListingCategory (numeric)', y='LoanOriginalAmount', hue='LoanStatus');"
   ]
  },
  {
   "cell_type": "code",
   "execution_count": null,
   "metadata": {
    "slideshow": {
     "slide_type": "subslide"
    }
   },
   "outputs": [],
   "source": [
    "plt.figure(figsize = [12, 8])\n",
    "sb.boxplot(data=df_loan1, x='ProsperRating (Alpha)', y='LoanOriginalAmount', hue='LoanStatus');"
   ]
  },
  {
   "cell_type": "code",
   "execution_count": null,
   "metadata": {},
   "outputs": [],
   "source": [
    "!jupyter nbconvert Communicate-Data-Findings-Slide-Deck.ipynb --to slides --post serve --no-input --no-prompt"
   ]
  }
 ],
 "metadata": {
  "celltoolbar": "Slideshow",
  "kernelspec": {
   "display_name": "Python 3",
   "language": "python",
   "name": "python3"
  },
  "language_info": {
   "codemirror_mode": {
    "name": "ipython",
    "version": 3
   },
   "file_extension": ".py",
   "mimetype": "text/x-python",
   "name": "python",
   "nbconvert_exporter": "python",
   "pygments_lexer": "ipython3",
   "version": "3.8.10"
  }
 },
 "nbformat": 4,
 "nbformat_minor": 2
}
